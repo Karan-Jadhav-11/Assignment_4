{
 "cells": [
  {
   "cell_type": "markdown",
   "id": "3c150a6b-bb30-45d9-959e-13e74bfe4ace",
   "metadata": {},
   "source": [
    "# Assignment 4"
   ]
  },
  {
   "cell_type": "markdown",
   "id": "4a437f67-fe6d-434e-a143-121e81d791e5",
   "metadata": {},
   "source": [
    "### Q1. Which keyword is used to create a function? Create a function to return a list of odd numbers in the  range of 1 to 25."
   ]
  },
  {
   "cell_type": "markdown",
   "id": "62d2bc42-963b-4d88-b364-96473be09d00",
   "metadata": {},
   "source": [
    "ANS: the keyword use to create function is \"def\".It is followed by the function name, parameters, and a colon. The body of the function is indented and contains the code that the function executes"
   ]
  },
  {
   "cell_type": "code",
   "execution_count": null,
   "id": "dfe29f71-5493-41d6-89c7-90d9d9b4035a",
   "metadata": {},
   "outputs": [],
   "source": [
    "def my_function(parameter1, parameter2): \n",
    "    # Function body\n",
    "    result = parameter1 + parameter2\n",
    "    return result"
   ]
  },
  {
   "cell_type": "markdown",
   "id": "51df2abc-0d6c-4938-9495-1ce099a490df",
   "metadata": {},
   "source": [
    "In this example, def is used to define a function named my_function that takes two parameters and returns their sum."
   ]
  },
  {
   "cell_type": "code",
   "execution_count": 34,
   "id": "125f7b05-1a00-4c41-ba58-bcbe40a7cf6c",
   "metadata": {},
   "outputs": [],
   "source": [
    "# creating function that return list of odd No. in range 1 to 2"
   ]
  },
  {
   "cell_type": "code",
   "execution_count": 32,
   "id": "28d35175-5ff5-436f-b979-471bdc6d4c92",
   "metadata": {},
   "outputs": [],
   "source": [
    "def odd():\n",
    "    for i in range(1,26):\n",
    "        if i % 2 !=0 :\n",
    "            print(i)\n",
    "            "
   ]
  },
  {
   "cell_type": "code",
   "execution_count": 33,
   "id": "9cacb851-4ff2-4335-a2fd-b550a181d36c",
   "metadata": {},
   "outputs": [
    {
     "name": "stdout",
     "output_type": "stream",
     "text": [
      "1\n",
      "3\n",
      "5\n",
      "7\n",
      "9\n",
      "11\n",
      "13\n",
      "15\n",
      "17\n",
      "19\n",
      "21\n",
      "23\n",
      "25\n"
     ]
    }
   ],
   "source": [
    "odd()"
   ]
  },
  {
   "cell_type": "code",
   "execution_count": null,
   "id": "0ffd8eaa-0024-4fcd-b7e7-34f7db9f9261",
   "metadata": {},
   "outputs": [],
   "source": []
  },
  {
   "cell_type": "markdown",
   "id": "4a0300d7-04d5-4ccb-8085-ab8f1330df84",
   "metadata": {},
   "source": [
    "### Q2. Why *args and **kwargs is used in some functions? Create a function each for *args and **kwargs  to demonstrate their use. \n"
   ]
  },
  {
   "cell_type": "markdown",
   "id": "bcf5fe93-4451-4d29-9e53-bddd060766b2",
   "metadata": {},
   "source": [
    "ANS: We can pass a variable number of arguments to a function using special symbols. \n",
    "There are two special symbols:\n",
    "    *args (Non-Keyword Arguments)\n",
    "    **kwargs (Keyword Arguments)\n",
    "he special syntax *args in function definitions in Python is used to pass a variable number of arguments to a function. It is used to pass a non-keyworded, variable-length argument list.\n"
   ]
  },
  {
   "cell_type": "code",
   "execution_count": 36,
   "id": "00f55890-ed81-4fef-92c1-1dac44d4d23b",
   "metadata": {},
   "outputs": [],
   "source": [
    "# Python program to illustrate *args for a variable number of arguments\n",
    "def myFun(*argv):\n",
    "    for arg in argv:\n",
    "        print(arg)"
   ]
  },
  {
   "cell_type": "code",
   "execution_count": 37,
   "id": "38a98664-329a-49dd-80ad-58753b416c14",
   "metadata": {},
   "outputs": [
    {
     "name": "stdout",
     "output_type": "stream",
     "text": [
      "Hello\n",
      "Welcome\n",
      "to\n",
      "Pwskills\n"
     ]
    }
   ],
   "source": [
    "myFun('Hello', 'Welcome', 'to', 'Pwskills')"
   ]
  },
  {
   "cell_type": "markdown",
   "id": "a42cec46-cca1-4915-8406-f1fe17f899c6",
   "metadata": {},
   "source": [
    "The special syntax **kwargs in function definitions in Python is used to pass a keyworded, variable-length argument list. We use the name kwargs with the double star. The reason is that the double star allows us to pass through keyword arguments (and any number of them)."
   ]
  },
  {
   "cell_type": "code",
   "execution_count": 38,
   "id": "783734ea-7a10-4ff2-bc90-6696378b2ef6",
   "metadata": {},
   "outputs": [],
   "source": [
    "def display_info(**kwargs):\n",
    "    for key, value in kwargs.items():\n",
    "        print(f\"{key}: {value}\")"
   ]
  },
  {
   "cell_type": "code",
   "execution_count": 41,
   "id": "0003c2a9-0585-48f3-9e46-f6f227e6f710",
   "metadata": {},
   "outputs": [
    {
     "name": "stdout",
     "output_type": "stream",
     "text": [
      "name: Karan\n",
      "age: 22\n",
      "city: Chhatrapati Sambhajinagar\n"
     ]
    }
   ],
   "source": [
    "# Example of using **kwargs\n",
    "display_info(name=\"Karan\", age=22, city=\"Chhatrapati Sambhajinagar\")"
   ]
  },
  {
   "cell_type": "markdown",
   "id": "798d10fd-3e45-4f77-9daf-b4f43debbd53",
   "metadata": {},
   "source": [
    "In this example, **kwargs in the function definition allows it to accept any number of keyword arguments. The function display_info then prints key-value pairs for each provided keyword argument."
   ]
  },
  {
   "cell_type": "code",
   "execution_count": null,
   "id": "e321be19-8505-4de1-b3da-755b68c24c38",
   "metadata": {},
   "outputs": [],
   "source": []
  },
  {
   "cell_type": "markdown",
   "id": "3eb8b327-4273-4263-837d-03127c8076d4",
   "metadata": {},
   "source": [
    "### Q3.  What is an iterator in python? Name the method used to initialise the iterator object and the method  used for iteration. Use these methods to print the first five elements of the given list [2, 4, 6, 8, 10, 12, 14,  16, 18, 20]. "
   ]
  },
  {
   "cell_type": "markdown",
   "id": "fdbd6604-b443-4765-9523-0a1a2f956df1",
   "metadata": {},
   "source": [
    "An iterator in Python is an object that is used to iterate over iterable objects like lists, tuples, dicts, and sets. The Python iterators object is initialized using the iter() method. It uses the next() method for iteration.\n",
    "\n",
    "__iter__(): The iter() method is called for the initialization of an iterator. This returns an iterator object\n",
    "__next__(): The next method returns the next value for the iterable. When we use a for loop to traverse any iterable object, internally it uses the iter() method to get an iterator object, which further uses the next() method to iterate over. This method raises a StopIteration to signal the end of the iteration."
   ]
  },
  {
   "cell_type": "code",
   "execution_count": 42,
   "id": "bcbba3ae-48a8-4885-a7f4-76925c65213d",
   "metadata": {},
   "outputs": [],
   "source": [
    "l = [2, 4, 6, 8, 10, 12, 14, 16, 18, 20]"
   ]
  },
  {
   "cell_type": "code",
   "execution_count": 51,
   "id": "28d14f67-f087-4fca-b06a-17efdc274fc2",
   "metadata": {},
   "outputs": [],
   "source": [
    "l1= iter(l)"
   ]
  },
  {
   "cell_type": "code",
   "execution_count": 52,
   "id": "4f04f5d4-16c2-4d87-a6af-c4e0e93d9298",
   "metadata": {},
   "outputs": [
    {
     "data": {
      "text/plain": [
       "2"
      ]
     },
     "execution_count": 52,
     "metadata": {},
     "output_type": "execute_result"
    }
   ],
   "source": [
    "next(l1)\n",
    "    "
   ]
  },
  {
   "cell_type": "code",
   "execution_count": 53,
   "id": "f48bd038-dc95-4f87-89b6-470908083b62",
   "metadata": {},
   "outputs": [
    {
     "data": {
      "text/plain": [
       "4"
      ]
     },
     "execution_count": 53,
     "metadata": {},
     "output_type": "execute_result"
    }
   ],
   "source": [
    "next(l1)"
   ]
  },
  {
   "cell_type": "code",
   "execution_count": 54,
   "id": "474cab23-b601-423c-94e0-64aabac81953",
   "metadata": {},
   "outputs": [
    {
     "data": {
      "text/plain": [
       "6"
      ]
     },
     "execution_count": 54,
     "metadata": {},
     "output_type": "execute_result"
    }
   ],
   "source": [
    "next(l1)"
   ]
  },
  {
   "cell_type": "code",
   "execution_count": 55,
   "id": "6984847f-c89a-48fa-ba99-2f746f541d5c",
   "metadata": {},
   "outputs": [
    {
     "data": {
      "text/plain": [
       "8"
      ]
     },
     "execution_count": 55,
     "metadata": {},
     "output_type": "execute_result"
    }
   ],
   "source": [
    "next(l1)"
   ]
  },
  {
   "cell_type": "code",
   "execution_count": 56,
   "id": "f3899cf5-9644-4d6d-aa7d-21209363f9f2",
   "metadata": {},
   "outputs": [
    {
     "data": {
      "text/plain": [
       "10"
      ]
     },
     "execution_count": 56,
     "metadata": {},
     "output_type": "execute_result"
    }
   ],
   "source": [
    "next(l1)"
   ]
  },
  {
   "cell_type": "code",
   "execution_count": null,
   "id": "6d9f561d-9ad1-4ccc-84f2-32ea1b2e5c6c",
   "metadata": {},
   "outputs": [],
   "source": []
  },
  {
   "cell_type": "markdown",
   "id": "215e6b2b-da52-40ac-9823-9dcb7e65bf20",
   "metadata": {},
   "source": [
    "### Q4.  What is a generator function in python? Why yield keyword is used? Give an example of a generator  function. \n"
   ]
  },
  {
   "cell_type": "markdown",
   "id": "0e505c12-6b7c-48d5-8428-bcc3b11a01a2",
   "metadata": {},
   "source": [
    "ANS:\n",
    "    "
   ]
  },
  {
   "cell_type": "markdown",
   "id": "a603c6b9-3758-4ae2-8543-5acc010c45a6",
   "metadata": {},
   "source": [
    "A generator function in Python is a special kind of function that allows you to iterate over a potentially large sequence of data without loading the entire sequence into memory. Instead of using return to produce a single result, a generator function uses the 'yield' keyword to produce a sequence of values. This makes generators memory-efficient and suitable for working with large datasets."
   ]
  },
  {
   "cell_type": "markdown",
   "id": "0a73433a-afda-428e-bc59-2d1800e449eb",
   "metadata": {},
   "source": [
    "The generator has the following syntax in Python:\n",
    "\n",
    "def function_name():\n",
    "\n",
    "    yield statement "
   ]
  },
  {
   "cell_type": "markdown",
   "id": "49e11c48-6cac-4d6f-8cb4-27eb74930991",
   "metadata": {},
   "source": [
    "The yield keyword is used in a generator function. A function containing yield becomes a generator function. Instead of returning a value and terminating like functions using the return statement, generator functions yield a value and pause their execution. They can be resumed as many times as needed, allowing them to produce a sequence of results over time."
   ]
  },
  {
   "cell_type": "code",
   "execution_count": 10,
   "id": "072f6933-6cbd-44c8-9680-dbec5e6e6c37",
   "metadata": {},
   "outputs": [
    {
     "name": "stdin",
     "output_type": "stream",
     "text": [
      "Enter the number which fib series you want  10\n"
     ]
    },
    {
     "name": "stdout",
     "output_type": "stream",
     "text": [
      "0\n",
      "1\n",
      "1\n",
      "2\n",
      "3\n",
      "5\n",
      "8\n"
     ]
    }
   ],
   "source": [
    "# Printing Fibonacci series using generative function\n",
    "\n",
    "\n",
    "def fib(n) :\n",
    "    a , b = 0, 1\n",
    "    while a < n :\n",
    "        yield a\n",
    "        a , b = b , a+b\n",
    "        \n",
    "n = int(input(\"Enter the number which fib series you want \"))\n",
    "\n",
    "for i in fib(n):\n",
    "    print(i)\n",
    "    "
   ]
  },
  {
   "cell_type": "code",
   "execution_count": null,
   "id": "015ad394-fddc-47f2-8b91-60135013b486",
   "metadata": {},
   "outputs": [],
   "source": []
  },
  {
   "cell_type": "markdown",
   "id": "c46f812e-47ae-417d-a76e-e20247a33276",
   "metadata": {},
   "source": [
    "### Q5. Create a generator function for prime numbers less than 1000. Use the next() method to print the  first 20 prime numbers."
   ]
  },
  {
   "cell_type": "markdown",
   "id": "996b7abd-d770-480b-be49-778c08e894bf",
   "metadata": {},
   "source": [
    "### ANS:"
   ]
  },
  {
   "cell_type": "code",
   "execution_count": 21,
   "id": "6085f293-ce21-41eb-b18f-1eaef9e3c1ec",
   "metadata": {},
   "outputs": [
    {
     "name": "stdout",
     "output_type": "stream",
     "text": [
      "2 3 5 7 11 13 17 19 23 29 31 37 41 43 47 53 59 61 67 71 73 79 83 89 97 101 103 107 109 113 127 131 137 139 149 151 157 163 167 173 179 181 191 193 197 199 211 223 227 229 233 239 241 251 257 263 269 271 277 281 283 293 307 311 313 317 331 337 347 349 353 359 367 373 379 383 389 397 401 409 419 421 431 433 439 443 449 457 461 463 467 479 487 491 499 503 509 521 523 541 547 557 563 569 571 577 587 593 599 601 607 613 617 619 631 641 643 647 653 659 661 673 677 683 691 701 709 719 727 733 739 743 751 757 761 769 773 787 797 809 811 821 823 827 829 839 853 857 859 863 877 881 883 887 907 911 919 929 937 941 947 953 967 971 977 983 991 997 "
     ]
    }
   ],
   "source": [
    "# check the number is prime or not \n",
    "def is_prime(num):\n",
    "# Check if a number is prime.\n",
    "    if num < 2:\n",
    "        return False\n",
    "    for i in range(2, int(num**0.5) + 1):\n",
    "        if num % i == 0:\n",
    "            return False\n",
    "    return True\n",
    "\n",
    "def prime_generator(limit):\n",
    "# Generate prime numbers .\n",
    "    for num in range(2,1000):\n",
    "        if is_prime(num):\n",
    "            yield num\n",
    "\n",
    "# Using the generator to get prime numbers less than 1000\n",
    "for prime_num in prime_generator(1000):\n",
    "    print(prime_num, end=' ')\n",
    "\n",
    "\n",
    "    "
   ]
  },
  {
   "cell_type": "code",
   "execution_count": 22,
   "id": "d0b0f3c7-f8c6-408c-9297-b75e8c715914",
   "metadata": {},
   "outputs": [
    {
     "name": "stdout",
     "output_type": "stream",
     "text": [
      "First 20 prime numbers less than 1000:\n",
      "2 3 5 7 11 13 17 19 23 29 31 37 41 43 47 53 59 61 67 71 "
     ]
    }
   ],
   "source": [
    "def is_prime(num):\n",
    "    # Check if a number is prime.\n",
    "    if num < 2:\n",
    "        return False\n",
    "    for i in range(2, int(num**0.5) + 1):\n",
    "        if num % i == 0:\n",
    "            return False\n",
    "    return True\n",
    "\n",
    "def prime_generator(limit):\n",
    "    # Generate prime numbers \n",
    "    for num in range(2, limit):\n",
    "        if is_prime(num):\n",
    "            yield num\n",
    "\n",
    "# Using the generator with next() to get the first 20 prime numbers\n",
    "limit = 1000\n",
    "prime_gen = prime_generator(limit)\n",
    "\n",
    "print(\"First 20 prime numbers less than 1000:\")\n",
    "for j in range(20):\n",
    "    print(next(prime_gen), end=' ')\n"
   ]
  },
  {
   "cell_type": "code",
   "execution_count": null,
   "id": "3e520c27-9dcc-4e51-b880-a2ec93fce0ce",
   "metadata": {},
   "outputs": [],
   "source": []
  },
  {
   "cell_type": "markdown",
   "id": "95ddc318-898f-407d-9a41-01939a101315",
   "metadata": {},
   "source": [
    "### Q6. Write a python program to print the first 10 Fibonacci numbers using a while loop"
   ]
  },
  {
   "cell_type": "markdown",
   "id": "c18506c6-efcf-4093-8f6d-b4843894dd61",
   "metadata": {},
   "source": [
    "### ANS :"
   ]
  },
  {
   "cell_type": "code",
   "execution_count": 36,
   "id": "95892f97-b970-4aae-b45e-b6ca2f84b1b7",
   "metadata": {},
   "outputs": [
    {
     "name": "stdout",
     "output_type": "stream",
     "text": [
      "0\n",
      "1\n",
      "1\n",
      "2\n",
      "3\n",
      "5\n",
      "8\n",
      "13\n",
      "21\n",
      "34\n"
     ]
    }
   ],
   "source": [
    "# program to print fibonacci series\n",
    "\n",
    "def find_fib(n) :\n",
    "    # function to find fib series\n",
    "    a , b = 0 , 1\n",
    "    count = 0\n",
    "    while count < n: \n",
    "        print( a)\n",
    "        a ,b = b , a + b\n",
    "        count += 1\n",
    "      # print the first 10 Fibonacci numbers\n",
    "    \n",
    "find_fib(10)"
   ]
  },
  {
   "cell_type": "code",
   "execution_count": null,
   "id": "3a52083e-a8db-498e-a76b-d5d0d08656b9",
   "metadata": {},
   "outputs": [],
   "source": []
  },
  {
   "cell_type": "markdown",
   "id": "6ec4aa2b-6126-429b-96bd-ede94343c57b",
   "metadata": {},
   "source": [
    "### Q7. Write a List Comprehension to iterate through the given string: ‘pwskills’. Expected output: ['p', 'w', 's', 'k', 'i', 'l', 'l', 's'] \n"
   ]
  },
  {
   "cell_type": "markdown",
   "id": "ced5248f-2df2-418c-a003-06ac73787499",
   "metadata": {},
   "source": [
    "### ANS :"
   ]
  },
  {
   "cell_type": "code",
   "execution_count": 37,
   "id": "588d8fe8-bf94-46e9-bfb0-9935338c1881",
   "metadata": {},
   "outputs": [],
   "source": [
    "string = \"pwskills\""
   ]
  },
  {
   "cell_type": "code",
   "execution_count": 41,
   "id": "557042f0-33f1-4fd3-9213-f97d6267cc9e",
   "metadata": {},
   "outputs": [
    {
     "data": {
      "text/plain": [
       "['p', 'w', 's', 'k', 'i', 'l', 'l', 's']"
      ]
     },
     "execution_count": 41,
     "metadata": {},
     "output_type": "execute_result"
    }
   ],
   "source": [
    "[ i for i in string ]"
   ]
  },
  {
   "cell_type": "code",
   "execution_count": null,
   "id": "9a2a9344-7ae4-477d-9553-6b95d26899f7",
   "metadata": {},
   "outputs": [],
   "source": []
  },
  {
   "cell_type": "markdown",
   "id": "d1a1775e-219e-471a-8ebe-7b788475a72e",
   "metadata": {},
   "source": [
    "### Q8. Write a python program to check whether a given number is Palindrome or not using a while loop. "
   ]
  },
  {
   "cell_type": "markdown",
   "id": "7f36442c-7db4-44ad-bcf3-5ee24a106233",
   "metadata": {},
   "source": [
    "### ANS:"
   ]
  },
  {
   "cell_type": "code",
   "execution_count": 48,
   "id": "bf5cebdf-15ab-47ad-ab42-42c1d169ac3e",
   "metadata": {},
   "outputs": [
    {
     "name": "stdin",
     "output_type": "stream",
     "text": [
      "Enter a number:  1221\n"
     ]
    },
    {
     "name": "stdout",
     "output_type": "stream",
     "text": [
      "1221 is a palindrome.\n"
     ]
    }
   ],
   "source": [
    "# Function to check if a number is palindrome\n",
    "def is_palindrome(number):\n",
    "    original_number = number\n",
    "    reverse_number = 0\n",
    "\n",
    "    while number > 0:\n",
    "        digit = number % 10\n",
    "        reverse_number = reverse_number * 10 + digit\n",
    "        number = number // 10\n",
    "\n",
    "    return original_number == reverse_number\n",
    "\n",
    "num = int(input(\"Enter a number: \"))\n",
    "\n",
    "# Check if the number is palindrome and print the result\n",
    "if is_palindrome(num):\n",
    "    print(f\"{num} is a palindrome.\")\n",
    "else:\n",
    "    print(f\"{num} is not a palindrome.\")\n"
   ]
  },
  {
   "cell_type": "code",
   "execution_count": null,
   "id": "166b5a2c-2904-4174-a3f3-b4680527f039",
   "metadata": {},
   "outputs": [],
   "source": [
    "\n"
   ]
  },
  {
   "cell_type": "markdown",
   "id": "bb968c9d-0a83-4326-adb9-53e2c336716d",
   "metadata": {},
   "source": [
    "### Q9. Write a code to print odd numbers from 1 to 100 using list comprehension. "
   ]
  },
  {
   "cell_type": "code",
   "execution_count": 49,
   "id": "ca555cd6-73f8-4b72-aaab-790e11db32b7",
   "metadata": {},
   "outputs": [
    {
     "data": {
      "text/plain": [
       "[1,\n",
       " 2,\n",
       " 3,\n",
       " 4,\n",
       " 5,\n",
       " 6,\n",
       " 7,\n",
       " 8,\n",
       " 9,\n",
       " 10,\n",
       " 11,\n",
       " 12,\n",
       " 13,\n",
       " 14,\n",
       " 15,\n",
       " 16,\n",
       " 17,\n",
       " 18,\n",
       " 19,\n",
       " 20,\n",
       " 21,\n",
       " 22,\n",
       " 23,\n",
       " 24,\n",
       " 25,\n",
       " 26,\n",
       " 27,\n",
       " 28,\n",
       " 29,\n",
       " 30,\n",
       " 31,\n",
       " 32,\n",
       " 33,\n",
       " 34,\n",
       " 35,\n",
       " 36,\n",
       " 37,\n",
       " 38,\n",
       " 39,\n",
       " 40,\n",
       " 41,\n",
       " 42,\n",
       " 43,\n",
       " 44,\n",
       " 45,\n",
       " 46,\n",
       " 47,\n",
       " 48,\n",
       " 49,\n",
       " 50,\n",
       " 51,\n",
       " 52,\n",
       " 53,\n",
       " 54,\n",
       " 55,\n",
       " 56,\n",
       " 57,\n",
       " 58,\n",
       " 59,\n",
       " 60,\n",
       " 61,\n",
       " 62,\n",
       " 63,\n",
       " 64,\n",
       " 65,\n",
       " 66,\n",
       " 67,\n",
       " 68,\n",
       " 69,\n",
       " 70,\n",
       " 71,\n",
       " 72,\n",
       " 73,\n",
       " 74,\n",
       " 75,\n",
       " 76,\n",
       " 77,\n",
       " 78,\n",
       " 79,\n",
       " 80,\n",
       " 81,\n",
       " 82,\n",
       " 83,\n",
       " 84,\n",
       " 85,\n",
       " 86,\n",
       " 87,\n",
       " 88,\n",
       " 89,\n",
       " 90,\n",
       " 91,\n",
       " 92,\n",
       " 93,\n",
       " 94,\n",
       " 95,\n",
       " 96,\n",
       " 97,\n",
       " 98,\n",
       " 99]"
      ]
     },
     "execution_count": 49,
     "metadata": {},
     "output_type": "execute_result"
    }
   ],
   "source": [
    "# list comprehensionto create a list from 1 to 100\n",
    "\n",
    "l= [i for i in range(1,101)]\n",
    "\n",
    "# List comprehension to filter  out odd numbers.\n",
    "\n"
   ]
  },
  {
   "cell_type": "code",
   "execution_count": null,
   "id": "529fb749-31b5-4203-835e-1b733818279f",
   "metadata": {},
   "outputs": [],
   "source": []
  }
 ],
 "metadata": {
  "kernelspec": {
   "display_name": "Python 3 (ipykernel)",
   "language": "python",
   "name": "python3"
  },
  "language_info": {
   "codemirror_mode": {
    "name": "ipython",
    "version": 3
   },
   "file_extension": ".py",
   "mimetype": "text/x-python",
   "name": "python",
   "nbconvert_exporter": "python",
   "pygments_lexer": "ipython3",
   "version": "3.10.8"
  }
 },
 "nbformat": 4,
 "nbformat_minor": 5
}
